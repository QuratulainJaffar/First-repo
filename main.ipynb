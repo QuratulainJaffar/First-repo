{
 "cells": [
  {
   "cell_type": "code",
   "execution_count": null,
   "id": "1d3bda5e-089a-493c-8740-9c1f79a28541",
   "metadata": {},
   "outputs": [],
   "source": [
    "def main():\n",
    "    file_path = \"/Users/jaffar/Desktop/example1.SAC\"\n",
    "    st = obspy.read(file_path)\n",
    "    amplitude = st[0].data\n",
    "    sampling_rate = st[0].stats.sampling_rate\n",
    "    start_time = st[0].stats.starttime.datetime\n",
    "    timestamp = [start_time + timedelta(seconds=i / sampling_rate) for i in range(len(amplitude))]\n",
    "    \n",
    "    window_duration = 10  # seconds\n",
    "    window_size = int(sampling_rate * window_duration)  # Samples per window\n",
    "    fractal_dimensions = []\n",
    "    time_labels = []  # Store datetime objects for the x-axis\n",
    "\n",
    "    output_path = \"/Users/jaffar/Desktop/output.txt\"\n",
    "    with open(output_path, 'w') as output_file: \n",
    "        for step in range(1, len(amplitude) // window_size):\n",
    "            start_index = (step - 1) * window_size\n",
    "            end_index = min(start_index + window_size, len(amplitude))\n",
    "            segment = amplitude[start_index:end_index]\n",
    "\n",
    "            if len(segment) >= 2:\n",
    "                _, gamma_tau_list = calculate_variogram(segment, sampling_rate)\n",
    "                fractal_dimension = calculate_fractal_dimension(gamma_tau_list, sampling_rate)\n",
    "            else:\n",
    "                fractal_dimension = None\n",
    "\n",
    "            # Only append if fractal dimension is valid\n",
    "            if fractal_dimension is not None:\n",
    "                fractal_dimensions.append(fractal_dimension)\n",
    "                step_start_time = timestamp[start_index + window_size // 2]  # Midpoint time for the segment\n",
    "                time_labels.append(step_start_time)\n",
    "                output_file.write(f\"{step},{step_start_time}, {fractal_dimension}\\n\")  # Save to file\n",
    "\n",
    "    # Plotting the waveform, and fractal dimensions over time\n",
    "    fig, axs = plt.subplots(2, 1, figsize=(15, 12), constrained_layout=True)\n",
    "\n",
    "    # Plot waveform\n",
    "    axs[0].plot(timestamp, amplitude, color='black')\n",
    "    axs[0].set_title('Waveform (BHZ Component)')\n",
    "    axs[0].tick_params(axis='x', which='both', bottom=False, top=False, labelbottom=False)  # Hide x-axis labels\n",
    "    axs[0].set_ylabel('Amplitude')\n",
    "\n",
    "    # Plot fractal dimensions over time\n",
    "    axs[1].plot(time_labels, fractal_dimensions, label='Fractal Dimension', marker='o')\n",
    "    axs[1].set_ylim(1, 2)  # Set y-limits to [1, 2] for fractal dimension\n",
    "    axs[1].set_xlabel('Time')\n",
    "    axs[1].set_ylabel('Fractal Dimension')\n",
    "    axs[1].set_title('Fractal Dimension over Time')\n",
    "    axs[1].xaxis.set_major_formatter(plt.FixedFormatter([t.strftime(\"%H:%M\") for t in time_labels[::60]]))\n",
    "    axs[1].set_xticks(time_labels[::60])\n",
    "\n",
    "    plt.show()\n",
    "\n",
    "if __name__ == \"__main__\":\n",
    "    main()\n"
   ]
  }
 ],
 "metadata": {
  "kernelspec": {
   "display_name": "Python 3 (ipykernel)",
   "language": "python",
   "name": "python3"
  },
  "language_info": {
   "codemirror_mode": {
    "name": "ipython",
    "version": 3
   },
   "file_extension": ".py",
   "mimetype": "text/x-python",
   "name": "python",
   "nbconvert_exporter": "python",
   "pygments_lexer": "ipython3",
   "version": "3.9.13"
  }
 },
 "nbformat": 4,
 "nbformat_minor": 5
}
